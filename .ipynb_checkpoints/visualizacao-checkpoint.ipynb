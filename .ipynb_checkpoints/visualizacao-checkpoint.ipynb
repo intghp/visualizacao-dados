{
 "cells": [
  {
   "cell_type": "code",
   "execution_count": 170,
   "id": "0bbd26a0-c415-4eef-8756-818fb5e2ac32",
   "metadata": {},
   "outputs": [],
   "source": [
    "#importação das bibliotecas\n",
    "\n",
    "import pandas as pd\n",
    "import numpy as np\n",
    "import seaborn as srn\n",
    "import matplotlib.pyplot as plt"
   ]
  },
  {
   "cell_type": "code",
   "execution_count": 11,
   "id": "7497ea38-0192-4180-b53a-664080ffe1cd",
   "metadata": {},
   "outputs": [
    {
     "data": {
      "text/plain": [
       "(7352, 4)"
      ]
     },
     "execution_count": 11,
     "metadata": {},
     "output_type": "execute_result"
    }
   ],
   "source": [
    "base = pd.read_csv('exports.csv')\n",
    "base.shape"
   ]
  },
  {
   "cell_type": "code",
   "execution_count": 107,
   "id": "34701559-7397-4001-a71f-343de823489e",
   "metadata": {},
   "outputs": [
    {
     "data": {
      "text/html": [
       "<div>\n",
       "<style scoped>\n",
       "    .dataframe tbody tr th:only-of-type {\n",
       "        vertical-align: middle;\n",
       "    }\n",
       "\n",
       "    .dataframe tbody tr th {\n",
       "        vertical-align: top;\n",
       "    }\n",
       "\n",
       "    .dataframe thead th {\n",
       "        text-align: right;\n",
       "    }\n",
       "</style>\n",
       "<table border=\"1\" class=\"dataframe\">\n",
       "  <thead>\n",
       "    <tr style=\"text-align: right;\">\n",
       "      <th></th>\n",
       "      <th>Entity</th>\n",
       "      <th>Code</th>\n",
       "      <th>Year</th>\n",
       "      <th>Exports of goods and services (constant 2015 US$)</th>\n",
       "    </tr>\n",
       "  </thead>\n",
       "  <tbody>\n",
       "    <tr>\n",
       "      <th>0</th>\n",
       "      <td>Albania</td>\n",
       "      <td>ALB</td>\n",
       "      <td>1996</td>\n",
       "      <td>326109900.0</td>\n",
       "    </tr>\n",
       "    <tr>\n",
       "      <th>1</th>\n",
       "      <td>Albania</td>\n",
       "      <td>ALB</td>\n",
       "      <td>1997</td>\n",
       "      <td>266515140.0</td>\n",
       "    </tr>\n",
       "    <tr>\n",
       "      <th>2</th>\n",
       "      <td>Albania</td>\n",
       "      <td>ALB</td>\n",
       "      <td>1998</td>\n",
       "      <td>356686460.0</td>\n",
       "    </tr>\n",
       "    <tr>\n",
       "      <th>3</th>\n",
       "      <td>Albania</td>\n",
       "      <td>ALB</td>\n",
       "      <td>1999</td>\n",
       "      <td>617412800.0</td>\n",
       "    </tr>\n",
       "    <tr>\n",
       "      <th>4</th>\n",
       "      <td>Albania</td>\n",
       "      <td>ALB</td>\n",
       "      <td>2000</td>\n",
       "      <td>857471000.0</td>\n",
       "    </tr>\n",
       "  </tbody>\n",
       "</table>\n",
       "</div>"
      ],
      "text/plain": [
       "    Entity Code  Year  Exports of goods and services (constant 2015 US$)\n",
       "0  Albania  ALB  1996                                        326109900.0\n",
       "1  Albania  ALB  1997                                        266515140.0\n",
       "2  Albania  ALB  1998                                        356686460.0\n",
       "3  Albania  ALB  1999                                        617412800.0\n",
       "4  Albania  ALB  2000                                        857471000.0"
      ]
     },
     "execution_count": 107,
     "metadata": {},
     "output_type": "execute_result"
    }
   ],
   "source": [
    "base.head()"
   ]
  },
  {
   "cell_type": "code",
   "execution_count": 109,
   "id": "7593329a-e1f2-4d3e-8854-11eb81ac925f",
   "metadata": {},
   "outputs": [
    {
     "data": {
      "text/html": [
       "<div>\n",
       "<style scoped>\n",
       "    .dataframe tbody tr th:only-of-type {\n",
       "        vertical-align: middle;\n",
       "    }\n",
       "\n",
       "    .dataframe tbody tr th {\n",
       "        vertical-align: top;\n",
       "    }\n",
       "\n",
       "    .dataframe thead th {\n",
       "        text-align: right;\n",
       "    }\n",
       "</style>\n",
       "<table border=\"1\" class=\"dataframe\">\n",
       "  <thead>\n",
       "    <tr style=\"text-align: right;\">\n",
       "      <th></th>\n",
       "      <th>Entity</th>\n",
       "      <th>Code</th>\n",
       "      <th>Year</th>\n",
       "      <th>Exports of goods and services (constant 2015 US$)</th>\n",
       "    </tr>\n",
       "  </thead>\n",
       "  <tbody>\n",
       "    <tr>\n",
       "      <th>830</th>\n",
       "      <td>Brazil</td>\n",
       "      <td>BRA</td>\n",
       "      <td>1960</td>\n",
       "      <td>6.077812e+09</td>\n",
       "    </tr>\n",
       "    <tr>\n",
       "      <th>831</th>\n",
       "      <td>Brazil</td>\n",
       "      <td>BRA</td>\n",
       "      <td>1961</td>\n",
       "      <td>6.393499e+09</td>\n",
       "    </tr>\n",
       "    <tr>\n",
       "      <th>832</th>\n",
       "      <td>Brazil</td>\n",
       "      <td>BRA</td>\n",
       "      <td>1962</td>\n",
       "      <td>5.919934e+09</td>\n",
       "    </tr>\n",
       "    <tr>\n",
       "      <th>833</th>\n",
       "      <td>Brazil</td>\n",
       "      <td>BRA</td>\n",
       "      <td>1963</td>\n",
       "      <td>7.577513e+09</td>\n",
       "    </tr>\n",
       "    <tr>\n",
       "      <th>834</th>\n",
       "      <td>Brazil</td>\n",
       "      <td>BRA</td>\n",
       "      <td>1964</td>\n",
       "      <td>6.551377e+09</td>\n",
       "    </tr>\n",
       "    <tr>\n",
       "      <th>...</th>\n",
       "      <td>...</td>\n",
       "      <td>...</td>\n",
       "      <td>...</td>\n",
       "      <td>...</td>\n",
       "    </tr>\n",
       "    <tr>\n",
       "      <th>888</th>\n",
       "      <td>Brazil</td>\n",
       "      <td>BRA</td>\n",
       "      <td>2018</td>\n",
       "      <td>2.559772e+11</td>\n",
       "    </tr>\n",
       "    <tr>\n",
       "      <th>889</th>\n",
       "      <td>Brazil</td>\n",
       "      <td>BRA</td>\n",
       "      <td>2019</td>\n",
       "      <td>2.494206e+11</td>\n",
       "    </tr>\n",
       "    <tr>\n",
       "      <th>890</th>\n",
       "      <td>Brazil</td>\n",
       "      <td>BRA</td>\n",
       "      <td>2020</td>\n",
       "      <td>2.437066e+11</td>\n",
       "    </tr>\n",
       "    <tr>\n",
       "      <th>891</th>\n",
       "      <td>Brazil</td>\n",
       "      <td>BRA</td>\n",
       "      <td>2021</td>\n",
       "      <td>2.580062e+11</td>\n",
       "    </tr>\n",
       "    <tr>\n",
       "      <th>892</th>\n",
       "      <td>Brazil</td>\n",
       "      <td>BRA</td>\n",
       "      <td>2022</td>\n",
       "      <td>2.723110e+11</td>\n",
       "    </tr>\n",
       "  </tbody>\n",
       "</table>\n",
       "<p>63 rows × 4 columns</p>\n",
       "</div>"
      ],
      "text/plain": [
       "     Entity Code  Year  Exports of goods and services (constant 2015 US$)\n",
       "830  Brazil  BRA  1960                                       6.077812e+09\n",
       "831  Brazil  BRA  1961                                       6.393499e+09\n",
       "832  Brazil  BRA  1962                                       5.919934e+09\n",
       "833  Brazil  BRA  1963                                       7.577513e+09\n",
       "834  Brazil  BRA  1964                                       6.551377e+09\n",
       "..      ...  ...   ...                                                ...\n",
       "888  Brazil  BRA  2018                                       2.559772e+11\n",
       "889  Brazil  BRA  2019                                       2.494206e+11\n",
       "890  Brazil  BRA  2020                                       2.437066e+11\n",
       "891  Brazil  BRA  2021                                       2.580062e+11\n",
       "892  Brazil  BRA  2022                                       2.723110e+11\n",
       "\n",
       "[63 rows x 4 columns]"
      ]
     },
     "execution_count": 109,
     "metadata": {},
     "output_type": "execute_result"
    }
   ],
   "source": [
    "#separar a entidade Brasil do restante\n",
    "brasil_entity = base.loc[(base['Entity'] == 'Brazil')]\n",
    "brasil_entity"
   ]
  },
  {
   "cell_type": "code",
   "execution_count": 83,
   "id": "881403ca-3fa1-49ea-aa7d-4889a09429e3",
   "metadata": {},
   "outputs": [],
   "source": [
    "#converter os anos de 'str' para 'int'\n",
    "base['Year'] = pd.to_numeric(base['Year'], errors='coerce')"
   ]
  },
  {
   "cell_type": "code",
   "execution_count": 85,
   "id": "4f5eda70-2a66-44c8-bf3b-f26126d58f6c",
   "metadata": {},
   "outputs": [
    {
     "data": {
      "text/plain": [
       "0"
      ]
     },
     "execution_count": 85,
     "metadata": {},
     "output_type": "execute_result"
    }
   ],
   "source": [
    "#verificar se há algum valor Nan na coluna 'Year', por um possível erro na conversão\n",
    "base['Year'].isna().sum()"
   ]
  },
  {
   "cell_type": "code",
   "execution_count": 87,
   "id": "2108c4f6-4f7b-4d3d-baab-f657964c8622",
   "metadata": {},
   "outputs": [
    {
     "data": {
      "text/plain": [
       "dtype('int64')"
      ]
     },
     "execution_count": 87,
     "metadata": {},
     "output_type": "execute_result"
    }
   ],
   "source": [
    "#verificar se a conversão deu certo\n",
    "base['Year'].dtype"
   ]
  },
  {
   "cell_type": "code",
   "execution_count": 119,
   "id": "92ee62b2-d2d6-43a5-989c-9e3296d4f06f",
   "metadata": {},
   "outputs": [
    {
     "data": {
      "text/html": [
       "<div>\n",
       "<style scoped>\n",
       "    .dataframe tbody tr th:only-of-type {\n",
       "        vertical-align: middle;\n",
       "    }\n",
       "\n",
       "    .dataframe tbody tr th {\n",
       "        vertical-align: top;\n",
       "    }\n",
       "\n",
       "    .dataframe thead th {\n",
       "        text-align: right;\n",
       "    }\n",
       "</style>\n",
       "<table border=\"1\" class=\"dataframe\">\n",
       "  <thead>\n",
       "    <tr style=\"text-align: right;\">\n",
       "      <th></th>\n",
       "      <th>Entity</th>\n",
       "      <th>Code</th>\n",
       "      <th>Year</th>\n",
       "      <th>Exports of goods and services (constant 2015 US$)</th>\n",
       "    </tr>\n",
       "  </thead>\n",
       "  <tbody>\n",
       "    <tr>\n",
       "      <th>870</th>\n",
       "      <td>Brazil</td>\n",
       "      <td>BRA</td>\n",
       "      <td>2000</td>\n",
       "      <td>1.120162e+11</td>\n",
       "    </tr>\n",
       "    <tr>\n",
       "      <th>871</th>\n",
       "      <td>Brazil</td>\n",
       "      <td>BRA</td>\n",
       "      <td>2001</td>\n",
       "      <td>1.223559e+11</td>\n",
       "    </tr>\n",
       "    <tr>\n",
       "      <th>872</th>\n",
       "      <td>Brazil</td>\n",
       "      <td>BRA</td>\n",
       "      <td>2002</td>\n",
       "      <td>1.302807e+11</td>\n",
       "    </tr>\n",
       "    <tr>\n",
       "      <th>873</th>\n",
       "      <td>Brazil</td>\n",
       "      <td>BRA</td>\n",
       "      <td>2003</td>\n",
       "      <td>1.446324e+11</td>\n",
       "    </tr>\n",
       "    <tr>\n",
       "      <th>874</th>\n",
       "      <td>Brazil</td>\n",
       "      <td>BRA</td>\n",
       "      <td>2004</td>\n",
       "      <td>1.655661e+11</td>\n",
       "    </tr>\n",
       "    <tr>\n",
       "      <th>875</th>\n",
       "      <td>Brazil</td>\n",
       "      <td>BRA</td>\n",
       "      <td>2005</td>\n",
       "      <td>1.815336e+11</td>\n",
       "    </tr>\n",
       "    <tr>\n",
       "      <th>876</th>\n",
       "      <td>Brazil</td>\n",
       "      <td>BRA</td>\n",
       "      <td>2006</td>\n",
       "      <td>1.903152e+11</td>\n",
       "    </tr>\n",
       "    <tr>\n",
       "      <th>877</th>\n",
       "      <td>Brazil</td>\n",
       "      <td>BRA</td>\n",
       "      <td>2007</td>\n",
       "      <td>2.020692e+11</td>\n",
       "    </tr>\n",
       "    <tr>\n",
       "      <th>878</th>\n",
       "      <td>Brazil</td>\n",
       "      <td>BRA</td>\n",
       "      <td>2008</td>\n",
       "      <td>2.028962e+11</td>\n",
       "    </tr>\n",
       "    <tr>\n",
       "      <th>879</th>\n",
       "      <td>Brazil</td>\n",
       "      <td>BRA</td>\n",
       "      <td>2009</td>\n",
       "      <td>1.841342e+11</td>\n",
       "    </tr>\n",
       "    <tr>\n",
       "      <th>880</th>\n",
       "      <td>Brazil</td>\n",
       "      <td>BRA</td>\n",
       "      <td>2010</td>\n",
       "      <td>2.057180e+11</td>\n",
       "    </tr>\n",
       "    <tr>\n",
       "      <th>881</th>\n",
       "      <td>Brazil</td>\n",
       "      <td>BRA</td>\n",
       "      <td>2011</td>\n",
       "      <td>2.156170e+11</td>\n",
       "    </tr>\n",
       "    <tr>\n",
       "      <th>882</th>\n",
       "      <td>Brazil</td>\n",
       "      <td>BRA</td>\n",
       "      <td>2012</td>\n",
       "      <td>2.171428e+11</td>\n",
       "    </tr>\n",
       "    <tr>\n",
       "      <th>883</th>\n",
       "      <td>Brazil</td>\n",
       "      <td>BRA</td>\n",
       "      <td>2013</td>\n",
       "      <td>2.211171e+11</td>\n",
       "    </tr>\n",
       "    <tr>\n",
       "      <th>884</th>\n",
       "      <td>Brazil</td>\n",
       "      <td>BRA</td>\n",
       "      <td>2014</td>\n",
       "      <td>2.176463e+11</td>\n",
       "    </tr>\n",
       "    <tr>\n",
       "      <th>885</th>\n",
       "      <td>Brazil</td>\n",
       "      <td>BRA</td>\n",
       "      <td>2015</td>\n",
       "      <td>2.324888e+11</td>\n",
       "    </tr>\n",
       "    <tr>\n",
       "      <th>886</th>\n",
       "      <td>Brazil</td>\n",
       "      <td>BRA</td>\n",
       "      <td>2016</td>\n",
       "      <td>2.344955e+11</td>\n",
       "    </tr>\n",
       "    <tr>\n",
       "      <th>887</th>\n",
       "      <td>Brazil</td>\n",
       "      <td>BRA</td>\n",
       "      <td>2017</td>\n",
       "      <td>2.460064e+11</td>\n",
       "    </tr>\n",
       "    <tr>\n",
       "      <th>888</th>\n",
       "      <td>Brazil</td>\n",
       "      <td>BRA</td>\n",
       "      <td>2018</td>\n",
       "      <td>2.559772e+11</td>\n",
       "    </tr>\n",
       "    <tr>\n",
       "      <th>889</th>\n",
       "      <td>Brazil</td>\n",
       "      <td>BRA</td>\n",
       "      <td>2019</td>\n",
       "      <td>2.494206e+11</td>\n",
       "    </tr>\n",
       "    <tr>\n",
       "      <th>890</th>\n",
       "      <td>Brazil</td>\n",
       "      <td>BRA</td>\n",
       "      <td>2020</td>\n",
       "      <td>2.437066e+11</td>\n",
       "    </tr>\n",
       "    <tr>\n",
       "      <th>891</th>\n",
       "      <td>Brazil</td>\n",
       "      <td>BRA</td>\n",
       "      <td>2021</td>\n",
       "      <td>2.580062e+11</td>\n",
       "    </tr>\n",
       "    <tr>\n",
       "      <th>892</th>\n",
       "      <td>Brazil</td>\n",
       "      <td>BRA</td>\n",
       "      <td>2022</td>\n",
       "      <td>2.723110e+11</td>\n",
       "    </tr>\n",
       "  </tbody>\n",
       "</table>\n",
       "</div>"
      ],
      "text/plain": [
       "     Entity Code  Year  Exports of goods and services (constant 2015 US$)\n",
       "870  Brazil  BRA  2000                                       1.120162e+11\n",
       "871  Brazil  BRA  2001                                       1.223559e+11\n",
       "872  Brazil  BRA  2002                                       1.302807e+11\n",
       "873  Brazil  BRA  2003                                       1.446324e+11\n",
       "874  Brazil  BRA  2004                                       1.655661e+11\n",
       "875  Brazil  BRA  2005                                       1.815336e+11\n",
       "876  Brazil  BRA  2006                                       1.903152e+11\n",
       "877  Brazil  BRA  2007                                       2.020692e+11\n",
       "878  Brazil  BRA  2008                                       2.028962e+11\n",
       "879  Brazil  BRA  2009                                       1.841342e+11\n",
       "880  Brazil  BRA  2010                                       2.057180e+11\n",
       "881  Brazil  BRA  2011                                       2.156170e+11\n",
       "882  Brazil  BRA  2012                                       2.171428e+11\n",
       "883  Brazil  BRA  2013                                       2.211171e+11\n",
       "884  Brazil  BRA  2014                                       2.176463e+11\n",
       "885  Brazil  BRA  2015                                       2.324888e+11\n",
       "886  Brazil  BRA  2016                                       2.344955e+11\n",
       "887  Brazil  BRA  2017                                       2.460064e+11\n",
       "888  Brazil  BRA  2018                                       2.559772e+11\n",
       "889  Brazil  BRA  2019                                       2.494206e+11\n",
       "890  Brazil  BRA  2020                                       2.437066e+11\n",
       "891  Brazil  BRA  2021                                       2.580062e+11\n",
       "892  Brazil  BRA  2022                                       2.723110e+11"
      ]
     },
     "execution_count": 119,
     "metadata": {},
     "output_type": "execute_result"
    }
   ],
   "source": [
    "#filtrar o ano de 2000 até 2022 no Brasil\n",
    "brasil = brasil_entity.loc[(brasil_entity['Year'] > 1999) & (brasil_entity['Year'] < 2023)]\n",
    "brasil"
   ]
  },
  {
   "cell_type": "code",
   "execution_count": 229,
   "id": "8c3ec7a4-f6b9-48fe-8a18-230e91d5d4a8",
   "metadata": {},
   "outputs": [
    {
     "data": {
      "image/png": "[encoded data removed]",
      "text/plain": [
       "<Figure size 640x480 with 1 Axes>"
      ]
     },
     "metadata": {},
     "output_type": "display_data"
    }
   ],
   "source": [
    "# Diagrama de dispersão\n",
    "srn.scatterplot(data=brasil, x=brasil['Year'], y=brasil['Exports of goods and services (constant 2015 US$)'], hue = brasil['Entity'])\n",
    "plt.title('Diagrama de Dispersão')\n",
    "plt.show()"
   ]
  },
  {
   "cell_type": "code",
   "execution_count": 231,
   "id": "bc154701-f4e1-428b-a014-09c475af0680",
   "metadata": {},
   "outputs": [
    {
     "data": {
      "text/plain": [
       "Text(0, 0.5, 'Exports of goods and services (constant 2015 US$)')"
      ]
     },
     "execution_count": 231,
     "metadata": {},
     "output_type": "execute_result"
    },
    {
     "data": {
      "image/png": "[encoded data removed]",
      "text/plain": [
       "<Figure size 640x480 with 1 Axes>"
      ]
     },
     "metadata": {},
     "output_type": "display_data"
    }
   ],
   "source": [
    "# Gráfico de linhas\n",
    "srn.lineplot(data=brasil, x='Year', y='Exports of goods and services (constant 2015 US$)', hue='Entity')\n",
    "plt.title('Gráfico de linhas')\n",
    "plt.xlabel('Year')\n",
    "plt.ylabel('Exports of goods and services (constant 2015 US$)')"
   ]
  },
  {
   "cell_type": "code",
   "execution_count": 235,
   "id": "28932bf3-91cd-4b95-9820-5ffc108eac52",
   "metadata": {},
   "outputs": [
    {
     "data": {
      "text/plain": [
       "Text(0, 0.5, 'Exports of goods and services (constant 2015 US$)')"
      ]
     },
     "execution_count": 235,
     "metadata": {},
     "output_type": "execute_result"
    },
    {
     "data": {
      "image/png": "[encoded data removed]",
      "text/plain": [
       "<Figure size 640x480 with 1 Axes>"
      ]
     },
     "metadata": {},
     "output_type": "display_data"
    }
   ],
   "source": [
    "# Gráfico de Barras\n",
    "srn.barplot(data=brasil, x='Year', y='Exports of goods and services (constant 2015 US$)', hue='Entity')\n",
    "plt.title('Gráfico de Barras')\n",
    "plt.xlabel('Year')\n",
    "plt.xticks(rotation=45)\n",
    "plt.ylabel('Exports of goods and services (constant 2015 US$)')"
   ]
  },
  {
   "cell_type": "code",
   "execution_count": null,
   "id": "ed5e0ce2-06cd-4436-8e65-e330759c377b",
   "metadata": {},
   "outputs": [],
   "source": [
    "# Gráfico Boxplot\n",
    "srn.boxplot(data=brasil, x='Year', y='Exports of goods and services (constant 2015 US$)', hue='Entity')\n",
    "plt.title('Gráfico de Barras')\n",
    "plt.xlabel('Year')\n",
    "plt.xticks(rotation=45)\n",
    "plt.ylabel('Exports of goods and services (constant 2015 US$)')"
   ]
  }
 ],
 "metadata": {
  "kernelspec": {
   "display_name": "Python 3 (ipykernel)",
   "language": "python",
   "name": "python3"
  },
  "language_info": {
   "codemirror_mode": {
    "name": "ipython",
    "version": 3
   },
   "file_extension": ".py",
   "mimetype": "text/x-python",
   "name": "python",
   "nbconvert_exporter": "python",
   "pygments_lexer": "ipython3",
   "version": "3.12.4"
  }
 },
 "nbformat": 4,
 "nbformat_minor": 5
}
